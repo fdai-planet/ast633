{
 "cells": [
  {
   "cell_type": "code",
   "execution_count": null,
   "id": "7bdb2731-5220-409a-b097-a4dccb6df731",
   "metadata": {},
   "outputs": [],
   "source": [
    "from IPython.display import Image\n",
    "import numpy as np\n",
    "import matplotlib.pyplot as plt\n",
    "from scipy import stats\n",
    "import seaborn as sns; sns.set()\n",
    "import sklearn\n",
    "import pandas as pd\n",
    "from sklearn.mixture import GaussianMixture\n",
    "\n",
    "#reference https://jakevdp.github.io/PythonDataScienceHandbook/05.12-gaussian-mixtures.html"
   ]
  },
  {
   "cell_type": "markdown",
   "id": "ac205689-1abb-4eed-9e0e-859079f963e1",
   "metadata": {},
   "source": [
    "### A Gaussian mixture model (GMM) attempts to find a mixture of multi-dimensional Gaussian distributions that best classifies the dataset.\n",
    "\n",
    "### Let's generate an example dataset with four clusters first."
   ]
  },
  {
   "cell_type": "code",
   "execution_count": null,
   "id": "1dafa8ed-0fde-4db2-8454-3ce9e2076f39",
   "metadata": {},
   "outputs": [],
   "source": [
    "from sklearn.datasets import make_blobs\n",
    "X, y_true = make_blobs(n_samples=400, centers=4,\n",
    "                       cluster_std=0.60, random_state=0)\n",
    "X = X[:, ::-1]\n",
    "plt.scatter(X[:, 0], X[:, 1], c=y_true, s=40, cmap='viridis');"
   ]
  },
  {
   "cell_type": "markdown",
   "id": "487ec94a-9ffc-4481-9af8-aac66b558371",
   "metadata": {},
   "source": [
    "### Apply a 4-component Gaussian Mixture model "
   ]
  },
  {
   "cell_type": "code",
   "execution_count": null,
   "id": "52f6e2ad-8dbc-49d6-b9fe-f46887d72730",
   "metadata": {},
   "outputs": [],
   "source": [
    "gmm = GaussianMixture(n_components=4).fit(X)\n",
    "labels = gmm.predict(X)\n",
    "plt.scatter(X[:, 0], X[:, 1], c=labels, s=40, cmap='viridis');"
   ]
  },
  {
   "cell_type": "markdown",
   "id": "3e2ea0a8-630d-46c0-9fa4-e5ce1123d38c",
   "metadata": {},
   "source": [
    "### A key benefit of the Gaussian Mixture model is that it can assign the probability of a point data belonging to a certain Gaussian component."
   ]
  },
  {
   "cell_type": "code",
   "execution_count": null,
   "id": "e488b958-e2d0-4600-adc3-12bf5718844c",
   "metadata": {},
   "outputs": [],
   "source": [
    "from matplotlib.patches import Ellipse\n",
    "\n",
    "def draw_ellipse(position, covariance, ax=None, **kwargs):\n",
    "    \"\"\"Draw an ellipse with a given position and covariance\"\"\"\n",
    "    ax = ax or plt.gca()\n",
    "    \n",
    "    # Convert covariance to principal axes\n",
    "    if covariance.shape == (2, 2):\n",
    "        U, s, Vt = np.linalg.svd(covariance)\n",
    "        angle = np.degrees(np.arctan2(U[1, 0], U[0, 0]))\n",
    "        width, height = 2 * np.sqrt(s)\n",
    "    else:\n",
    "        angle = 0\n",
    "        width, height = 2 * np.sqrt(covariance)\n",
    "    \n",
    "    # Draw the Ellipse\n",
    "    for nsig in range(1, 4):\n",
    "        ax.add_patch(Ellipse(position, nsig * width, nsig * height,\n",
    "                             angle, **kwargs))\n",
    "        \n",
    "def plot_gmm(gmm, X, label=True, ax=None):\n",
    "    ax = ax or plt.gca()\n",
    "    labels = gmm.fit(X).predict(X)\n",
    "    if label:\n",
    "        ax.scatter(X[:, 0], X[:, 1], c=labels, s=40, cmap='viridis', zorder=2)\n",
    "    else:\n",
    "        ax.scatter(X[:, 0], X[:, 1], s=40, zorder=2)\n",
    "    ax.axis('equal')\n",
    "    \n",
    "    w_factor = 0.2 / gmm.weights_.max()\n",
    "    for pos, covar, w in zip(gmm.means_, gmm.covariances_, gmm.weights_):\n",
    "        draw_ellipse(pos, covar, alpha=w * w_factor)"
   ]
  },
  {
   "cell_type": "code",
   "execution_count": null,
   "id": "989f0eaf-a399-4d50-9818-7f0ad9758fb4",
   "metadata": {},
   "outputs": [],
   "source": [
    "plot_gmm(gmm, X)"
   ]
  },
  {
   "cell_type": "code",
   "execution_count": null,
   "id": "45c2e5d4-54f6-4499-907e-677e2ddc6e7a",
   "metadata": {},
   "outputs": [],
   "source": [
    "probs = gmm.predict_proba(X)\n",
    "print(probs[:5].round(3))"
   ]
  },
  {
   "cell_type": "markdown",
   "id": "79ad278d-269a-4d5a-9d60-f4a1cb276b97",
   "metadata": {},
   "source": [
    "### Let's look at an example where Gaussian Mixture Model can be used for image compression"
   ]
  },
  {
   "cell_type": "code",
   "execution_count": null,
   "id": "1800917f-4ae9-40c5-9e66-aca87598bfbe",
   "metadata": {},
   "outputs": [],
   "source": [
    "from sklearn.datasets import load_sample_image\n",
    "china = load_sample_image(\"china.jpg\")\n",
    "ax = plt.axes(xticks=[], yticks=[])\n",
    "ax.imshow(china);"
   ]
  },
  {
   "cell_type": "code",
   "execution_count": null,
   "id": "a04dcbff-f183-407d-873c-b5887f2c143a",
   "metadata": {},
   "outputs": [],
   "source": [
    "china.shape"
   ]
  },
  {
   "cell_type": "code",
   "execution_count": null,
   "id": "37c50c3a-8913-4da1-8c4f-15d274603675",
   "metadata": {},
   "outputs": [],
   "source": [
    "data = china / 255.0 # use 0...1 scale\n",
    "data = data.reshape(427 * 640, 3)\n",
    "data.shape"
   ]
  },
  {
   "cell_type": "code",
   "execution_count": null,
   "id": "fc757bd4-ea1d-471f-9252-2d8de1b5ffce",
   "metadata": {},
   "outputs": [],
   "source": [
    "def plot_pixels(data, title, colors=None, N=10000, color_centers = None):\n",
    "    if colors is None:\n",
    "        colors = data\n",
    "    \n",
    "    # choose a random subset\n",
    "    rng = np.random.RandomState(0)\n",
    "    i = rng.permutation(data.shape[0])[:N]\n",
    "    colors = colors[i]\n",
    "    R, G, B = data[i].T\n",
    "    \n",
    "    fig, ax = plt.subplots(1, 2, figsize=(16, 6))\n",
    "    ax[0].scatter(R, G, color=colors, marker='.')\n",
    "    ax[0].set(xlabel='Red', ylabel='Green', xlim=(0, 1), ylim=(0, 1))\n",
    "\n",
    "    ax[1].scatter(R, B, color=colors, marker='.')\n",
    "    ax[1].set(xlabel='Red', ylabel='Blue', xlim=(0, 1), ylim=(0, 1))\n",
    "\n",
    "\n",
    "    fig.suptitle(title, size=20);\n",
    "\n",
    "    if color_centers is None:\n",
    "        return\n",
    "    ax[0].scatter(color_centers[:,0],color_centers[:,1], marker = '*', color = 'Black')\n",
    "    ax[1].scatter(color_centers[:,0],color_centers[:,2], marker = '*', color = 'Black')"
   ]
  },
  {
   "cell_type": "code",
   "execution_count": null,
   "id": "3b5467fc-4bc6-42c7-90ea-86362162bc81",
   "metadata": {},
   "outputs": [],
   "source": [
    "plot_pixels(data, title='Input color space: 16 million possible colors')"
   ]
  },
  {
   "cell_type": "markdown",
   "id": "ff01307f-c694-4a32-b1c5-884652f262e4",
   "metadata": {},
   "source": [
    "### Let's reduce the color space from 16 million possible colors to just 16 colors using Gaussian Mixture model!"
   ]
  },
  {
   "cell_type": "code",
   "execution_count": null,
   "id": "00169917-e8ad-427c-861d-f3486478ce80",
   "metadata": {},
   "outputs": [],
   "source": [
    "n_component= 16\n",
    "\n",
    "gmm = GaussianMixture(n_components=n_component).fit(data)\n",
    "labels = gmm.predict(data)\n",
    "color_cluster_centers = gmm.means_\n",
    "\n",
    "#print(np.shape(color_cluster_centers))\n",
    "plot_pixels(data, title='Input color space: 16 million possible colors',color_centers=color_cluster_centers)\n",
    "plt.show()\n",
    "data_condensed = np.copy(data)\n",
    "for i in range(len(labels)):\n",
    "    data_condensed[i] = color_cluster_centers[labels[i]]\n",
    "\n",
    "china_recolored = data_condensed.reshape(china.shape)\n",
    "\n"
   ]
  },
  {
   "cell_type": "code",
   "execution_count": null,
   "id": "b6329b25-9c1e-4603-889f-ad07d84c1bfd",
   "metadata": {},
   "outputs": [],
   "source": [
    "plt.close()\n",
    "fig, ax = plt.subplots(1, 2, figsize=(16, 6),\n",
    "                   subplot_kw=dict(xticks=[], yticks=[]))\n",
    "fig.subplots_adjust(wspace=0.05)\n",
    "ax[0].imshow(china)\n",
    "ax[0].set_title('Original Image', size=16)\n",
    "ax[1].imshow(china_recolored)\n",
    "ax[1].set_title('Compressed Image with '+str(n_component)+' components', size=16);"
   ]
  },
  {
   "cell_type": "markdown",
   "id": "9271e21a-50c5-4b52-b62e-8f81328c131d",
   "metadata": {},
   "source": [
    "### Of course, some information has been lost in this compression. However, we did reduce the color space from RGB of (256*256*256 = 16 million) to just 16. The image is still recognizable."
   ]
  },
  {
   "cell_type": "markdown",
   "id": "d42baf58-887d-43b8-8bc0-d0ce344f1fc0",
   "metadata": {},
   "source": [
    "# Exercise\n",
    "### Classify Known exoplanets into a few broad categories using their masses and radii"
   ]
  },
  {
   "cell_type": "code",
   "execution_count": null,
   "id": "2555a15a-261b-40f8-8f1b-1f2267162276",
   "metadata": {},
   "outputs": [],
   "source": [
    "newdata =pd.read_csv('data/exoplanets.csv',header =0)\n",
    "period = np.array(newdata['pl_orbper'],'d')\n",
    "mass = np.array(newdata['pl_masse'],'d')\n",
    "\n",
    "log_period = np.log10(period[(np.isnan(period)==False) & (np.isnan(mass)==False)])\n",
    "log_mass = np.log10(mass[(np.isnan(period)==False) & (np.isnan(mass)==False)])\n",
    "\n",
    "\n",
    "plt.scatter(log_period,log_mass, marker = '.', s = 3)\n",
    "plt.xlabel('log (Orbital Period/days)')\n",
    "plt.ylabel('log (Planet Mass/Earth Mass)')"
   ]
  },
  {
   "cell_type": "markdown",
   "id": "509996cc-4694-4b7c-adc3-2edb3ce3e750",
   "metadata": {},
   "source": [
    "### using a Gaussian Mixture Model to classify these planets, how many components do you think are needed?"
   ]
  },
  {
   "cell_type": "code",
   "execution_count": null,
   "id": "5c71a418-6b8c-4e14-95fc-398b1576502c",
   "metadata": {},
   "outputs": [],
   "source": []
  },
  {
   "cell_type": "markdown",
   "id": "44dcdfc0-77ae-40e8-b890-99a9f124ab31",
   "metadata": {},
   "source": [
    "### show the contours for each Gaussian components"
   ]
  },
  {
   "cell_type": "code",
   "execution_count": null,
   "id": "712bce65-a2d6-419b-b02e-6713a97dbc1d",
   "metadata": {},
   "outputs": [],
   "source": []
  },
  {
   "cell_type": "markdown",
   "id": "d34c1868-de19-4071-9681-e4885dd0b49d",
   "metadata": {},
   "source": [
    "### which component does these two planets belong to 1) log_mass = 2.5, log_period = 1; 2) log_mass = 3, log_period = 2?"
   ]
  },
  {
   "cell_type": "code",
   "execution_count": null,
   "id": "c5a45a76-7184-45a4-9206-38cdf7981d48",
   "metadata": {},
   "outputs": [],
   "source": []
  },
  {
   "cell_type": "markdown",
   "id": "2ed27cce-c481-4370-a0c1-adf5b831417c",
   "metadata": {},
   "source": [
    "### does your model broadly agree with this schematics?"
   ]
  },
  {
   "cell_type": "code",
   "execution_count": null,
   "id": "7f4ebcb5-1cde-4b3c-8888-66bfc71a0161",
   "metadata": {},
   "outputs": [],
   "source": [
    "Image(url= \"data/exoplanets.png\")"
   ]
  },
  {
   "cell_type": "code",
   "execution_count": null,
   "id": "eddb2889-dd1d-492a-a737-7211bad51667",
   "metadata": {},
   "outputs": [],
   "source": []
  }
 ],
 "metadata": {
  "kernelspec": {
   "display_name": "Python 3 (ipykernel)",
   "language": "python",
   "name": "python3"
  },
  "language_info": {
   "codemirror_mode": {
    "name": "ipython",
    "version": 3
   },
   "file_extension": ".py",
   "mimetype": "text/x-python",
   "name": "python",
   "nbconvert_exporter": "python",
   "pygments_lexer": "ipython3",
   "version": "3.9.7"
  }
 },
 "nbformat": 4,
 "nbformat_minor": 5
}
