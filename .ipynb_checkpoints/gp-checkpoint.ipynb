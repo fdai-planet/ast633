{
 "cells": [
  {
   "cell_type": "code",
   "execution_count": null,
   "metadata": {},
   "outputs": [],
   "source": [
    "import matplotlib.pyplot as plt\n",
    "import numpy as np\n",
    "import pandas as pd\n",
    "from IPython.display import Image\n",
    "\n",
    "#reference https://scikit-learn.org/stable/auto_examples/gaussian_process/plot_gpr_co2.html"
   ]
  },
  {
   "cell_type": "markdown",
   "metadata": {},
   "source": [
    "### This is CO2 level measured at Mauna Loa over the last few decades"
   ]
  },
  {
   "cell_type": "code",
   "execution_count": null,
   "metadata": {},
   "outputs": [],
   "source": [
    "\n",
    "newdata = pd.read_csv('data/co2.csv',header=0)\n",
    "time=np.array(newdata['decimal_date'],'d')\n",
    "average=np.array(newdata['average'],'d')\n",
    "X= np.vstack((time))\n",
    "y = average"
   ]
  },
  {
   "cell_type": "code",
   "execution_count": null,
   "metadata": {},
   "outputs": [],
   "source": [
    "plt.plot(time,average)\n",
    "plt.xlabel('Year')\n",
    "plt.ylabel('CO2 level (ppm)')\n"
   ]
  },
  {
   "cell_type": "markdown",
   "metadata": {},
   "source": [
    "### Obviously, there is undeniable evidence for a secular increase in the atmospheric CO2 level"
   ]
  },
  {
   "cell_type": "markdown",
   "metadata": {
    "tags": []
   },
   "source": [
    "### On top that, there there is also a seasonal variation."
   ]
  },
  {
   "cell_type": "code",
   "execution_count": null,
   "metadata": {},
   "outputs": [],
   "source": [
    "plt.scatter(time,average)\n",
    "plt.xlabel('Year')\n",
    "plt.ylabel('CO2 level (ppm)')\n",
    "plt.xlim(2000,2005)\n",
    "plt.ylim(360,385)"
   ]
  },
  {
   "cell_type": "markdown",
   "metadata": {
    "tags": []
   },
   "source": [
    "### There is no parametric model for the variation of CO$_2$ versus time.\n",
    "\n",
    "### However a well-designed Gaussian Process model can adequately describe both the secular (long-term) and seasonal variation of CO$_2$\n",
    "\n",
    "### Let's use the squared-exponential kernel to describe the long term change, a quasi-periodic kernel to describe the seasonal variation, and a white noise kernel to describe any short timescale variation/ measurement uncertainty."
   ]
  },
  {
   "cell_type": "code",
   "execution_count": null,
   "metadata": {},
   "outputs": [],
   "source": [
    "from sklearn.gaussian_process.kernels import RBF\n",
    "\n",
    "long_term_trend_kernel = 50.0**2 * RBF(length_scale=50.0)\n",
    "\n",
    "opt_kernel_instance=long_term_trend_kernel \n",
    "opt_kern_matrix=opt_kernel_instance(X=X)\n",
    "plt.imshow(opt_kern_matrix)\n",
    "plt.colorbar()\n"
   ]
  },
  {
   "cell_type": "markdown",
   "metadata": {},
   "source": [
    "### Note that all the parameters are initial guesses. RBF stands for radial basis function which is also known as the squared-exponential."
   ]
  },
  {
   "cell_type": "code",
   "execution_count": null,
   "metadata": {},
   "outputs": [],
   "source": [
    "from sklearn.gaussian_process.kernels import ExpSineSquared\n",
    "\n",
    "seasonal_kernel = ( 5.0**2\n",
    "    * RBF(length_scale=100.0)\n",
    "    * ExpSineSquared(length_scale=2.0, periodicity=1.0, periodicity_bounds=\"fixed\"))\n",
    "#let's fixed the periodicity of the seasonal variation to be 1 year.\n",
    "\n",
    "opt_kernel_instance=seasonal_kernel \n",
    "opt_kern_matrix=opt_kernel_instance(X=X)\n",
    "plt.imshow(opt_kern_matrix)\n",
    "plt.colorbar()"
   ]
  },
  {
   "cell_type": "code",
   "execution_count": null,
   "metadata": {},
   "outputs": [],
   "source": [
    "from sklearn.gaussian_process.kernels import WhiteKernel\n",
    "\n",
    "noise_kernel = 0.1**2 * RBF(length_scale=0.1) + WhiteKernel(\n",
    "    noise_level=0.1**2, noise_level_bounds=(1e-5, 1e5)\n",
    ")\n",
    "\n",
    "opt_kernel_instance=noise_kernel \n",
    "opt_kern_matrix=opt_kernel_instance(X=X)\n",
    "plt.imshow(opt_kern_matrix)\n",
    "plt.colorbar()"
   ]
  },
  {
   "cell_type": "code",
   "execution_count": null,
   "metadata": {},
   "outputs": [],
   "source": [
    "co2_kernel = ( long_term_trend_kernel + seasonal_kernel + noise_kernel)\n",
    "co2_kernel"
   ]
  },
  {
   "cell_type": "code",
   "execution_count": null,
   "metadata": {},
   "outputs": [],
   "source": [
    "kernel_instance=co2_kernel \n",
    "opt_kern_matrix=kernel_instance(X=X)\n",
    "plt.imshow(opt_kern_matrix)\n",
    "plt.colorbar()"
   ]
  },
  {
   "cell_type": "code",
   "execution_count": null,
   "metadata": {},
   "outputs": [],
   "source": [
    "#optimize the various parameters of the kernels\n",
    "from sklearn.gaussian_process import GaussianProcessRegressor\n",
    "\n",
    "X= np.vstack((time))\n",
    "y = average\n",
    "\n",
    "y_mean = y.mean()\n",
    "gaussian_process = GaussianProcessRegressor(kernel=co2_kernel, normalize_y=False)\n",
    "gaussian_process.fit(X, y - y_mean)"
   ]
  },
  {
   "cell_type": "code",
   "execution_count": null,
   "metadata": {},
   "outputs": [],
   "source": [
    "gaussian_process.kernel_"
   ]
  },
  {
   "cell_type": "code",
   "execution_count": null,
   "metadata": {},
   "outputs": [],
   "source": [
    "kernel_instance=gaussian_process.kernel_ \n",
    "opt_kern_matrix=kernel_instance(X=X)\n",
    "plt.imshow(opt_kern_matrix,interpolation = None)\n",
    "plt.colorbar()\n",
    "plt.savefig('optimized_kernel.pdf')"
   ]
  },
  {
   "cell_type": "code",
   "execution_count": null,
   "metadata": {},
   "outputs": [],
   "source": [
    "import datetime\n",
    "import numpy as np\n",
    "\n",
    "today = datetime.datetime.now()\n",
    "current_month = today.year + today.month / 12\n",
    "X_test = np.linspace(start=1958, stop=current_month, num=1_000).reshape(-1, 1)\n",
    "mean_y_pred, std_y_pred = gaussian_process.predict(X_test, return_std=True)\n",
    "mean_y_pred += y_mean"
   ]
  },
  {
   "cell_type": "code",
   "execution_count": null,
   "metadata": {},
   "outputs": [],
   "source": [
    "plt.plot(X, y, color=\"black\", linestyle=\"dashed\", label=\"Measurements\")\n",
    "plt.plot(X_test, mean_y_pred, color=\"tab:blue\", alpha=0.4, label=\"Gaussian process\")\n",
    "plt.fill_between(\n",
    "    X_test.ravel(),\n",
    "    mean_y_pred - std_y_pred,\n",
    "    mean_y_pred + std_y_pred,\n",
    "    color=\"tab:blue\",\n",
    "    alpha=0.2,\n",
    ")\n",
    "plt.legend()\n",
    "plt.xlabel(\"Year\")\n",
    "plt.ylabel(\"Monthly average of CO$_2$ concentration (ppm)\")\n",
    "_ = plt.title(\n",
    "    \"Monthly average of air samples measurements\\nfrom the Mauna Loa Observatory\"\n",
    ")"
   ]
  },
  {
   "cell_type": "code",
   "execution_count": null,
   "metadata": {},
   "outputs": [],
   "source": [
    "plt.scatter(X, y, color=\"black\", marker = '.', label = 'training set')\n",
    "plt.plot(X_test, mean_y_pred, color=\"tab:blue\", alpha=0.4, label=\"Gaussian process\")\n",
    "plt.fill_between(\n",
    "    X_test.ravel(),\n",
    "    mean_y_pred - std_y_pred,\n",
    "    mean_y_pred + std_y_pred,\n",
    "    color=\"tab:blue\",\n",
    "    alpha=0.2,\n",
    ")\n",
    "plt.xlim(2015,2025)\n",
    "plt.ylim(400,430)\n",
    "plt.legend()\n",
    "plt.xlabel(\"Year\")\n",
    "plt.ylabel(\"Monthly average of CO$_2$ concentration (ppm)\")\n",
    "_ = plt.title(\n",
    "    \"Monthly average of air samples measurements\\nfrom the Mauna Loa Observatory\"\n",
    ")"
   ]
  },
  {
   "cell_type": "markdown",
   "metadata": {},
   "source": [
    "### Our training dataset stops at 2020, let's see how does the GP model predict the CO2 evolution in the 2020?"
   ]
  },
  {
   "cell_type": "code",
   "execution_count": null,
   "metadata": {},
   "outputs": [],
   "source": [
    "\n",
    "newdata = pd.read_csv('data/co2_2020.csv',header=0)\n",
    "time_2020=np.array(newdata['decimal_date'],'d')\n",
    "co2_2020=np.array(newdata['average'],'d')\n",
    "\n",
    "plt.scatter(X, y, color=\"black\", marker = '.', label = 'training set')\n",
    "plt.scatter(time_2020, co2_2020, color=\"red\", marker = '.', label = 'new data set')\n",
    "\n",
    "plt.plot(X_test, mean_y_pred, color=\"tab:blue\", alpha=0.4, label=\"Gaussian process prediction\")\n",
    "plt.fill_between(\n",
    "    X_test.ravel(),\n",
    "    mean_y_pred - std_y_pred,\n",
    "    mean_y_pred + std_y_pred,\n",
    "    color=\"tab:blue\",\n",
    "    alpha=0.2,\n",
    ")\n",
    "plt.xlim(2015,2025)\n",
    "plt.ylim(400,430)\n",
    "plt.legend()\n",
    "plt.xlabel(\"Year\")\n",
    "plt.ylabel(\"Monthly average of CO$_2$ concentration (ppm)\")\n",
    "_ = plt.title(\n",
    "    \"GP gives a good prediction of how CO2 level evolves in the 2020s\"\n",
    ")"
   ]
  },
  {
   "cell_type": "markdown",
   "metadata": {},
   "source": [
    "### GP is make a decent prediction of CO2 level even though we do not have any parameteric model."
   ]
  },
  {
   "cell_type": "markdown",
   "metadata": {
    "tags": []
   },
   "source": [
    "# Exercise\n",
    "\n",
    "Let's write our own covariance matrix produced by a quasi-periodic kernel without using to a pre-coded package. Hopefully, this will help you gain some intuition."
   ]
  },
  {
   "cell_type": "code",
   "execution_count": null,
   "metadata": {},
   "outputs": [],
   "source": [
    "Image(url= \"data/quasi-periodic_kernel.png\")"
   ]
  },
  {
   "cell_type": "markdown",
   "metadata": {},
   "source": [
    "### Try on your own. If you get stuck. Use the guided steps below"
   ]
  },
  {
   "cell_type": "code",
   "execution_count": null,
   "metadata": {},
   "outputs": [],
   "source": [
    "#produce an arbitrary x axis \n",
    "x = np.linspace(0,100,1000)"
   ]
  },
  {
   "cell_type": "code",
   "execution_count": null,
   "metadata": {},
   "outputs": [],
   "source": [
    "#define the xi-xj\n",
    "Delta_x = x[:, None] - x[None, :]"
   ]
  },
  {
   "cell_type": "code",
   "execution_count": null,
   "metadata": {},
   "outputs": [],
   "source": [
    "def exp2_kernel(L, Delta_x):\n",
    "    #fill in here\n",
    "    return \n",
    "\n",
    "def periodic_kernel(L_p, P, Delta_x):\n",
    "    \n",
    "    #fill in here\n",
    "    return \n",
    "\n",
    "def covariance_matrix(params, Delta_x):\n",
    "    params = H, L, L_p, P\n",
    "    #fill in here\n",
    "    Sigma = \n",
    "   \n",
    "    return Sigma\n",
    "\n"
   ]
  },
  {
   "cell_type": "markdown",
   "metadata": {},
   "source": [
    "### Now visualize the covarinace matrix with plt.imshow()\n"
   ]
  },
  {
   "cell_type": "code",
   "execution_count": null,
   "metadata": {},
   "outputs": [],
   "source": []
  },
  {
   "cell_type": "markdown",
   "metadata": {},
   "source": [
    "\n",
    "### Respectively removing the exponential and the periodic part of the kernel, and plot the covariance matrix again. Explain the key differences you see. You may need to tune the parameters to accentuate the difference."
   ]
  },
  {
   "cell_type": "code",
   "execution_count": null,
   "metadata": {},
   "outputs": [],
   "source": []
  }
 ],
 "metadata": {
  "kernelspec": {
   "display_name": "Python 3 (ipykernel)",
   "language": "python",
   "name": "python3"
  },
  "language_info": {
   "codemirror_mode": {
    "name": "ipython",
    "version": 3
   },
   "file_extension": ".py",
   "mimetype": "text/x-python",
   "name": "python",
   "nbconvert_exporter": "python",
   "pygments_lexer": "ipython3",
   "version": "3.9.7"
  }
 },
 "nbformat": 4,
 "nbformat_minor": 4
}
