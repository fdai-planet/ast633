{
 "cells": [
  {
   "cell_type": "code",
   "execution_count": 1,
   "id": "bb9f127a-0951-4970-8e80-cb4699c8d5d7",
   "metadata": {},
   "outputs": [],
   "source": [
    "from IPython.display import Image\n",
    "import numpy as np\n",
    "import matplotlib.pyplot as plt\n",
    "from scipy import stats\n",
    "import seaborn as sns; sns.set()\n",
    "import sklearn\n",
    "import pandas as pd\n",
    "\n",
    "#references https://jakevdp.github.io/PythonDataScienceHandbook/05.07-support-vector-machines.html\n",
    "#https://arxiv.org/pdf/1710.05398"
   ]
  },
  {
   "cell_type": "markdown",
   "id": "df0c4ef3-c5e4-4a89-aa03-3601422eb8c6",
   "metadata": {},
   "source": [
    "### Super-Earths v.s Mini-Neptunes\n",
    "A surprising recent result in the exoplanet field is that the radii of small planets have a bimodal distribution. There is a lower peak at 1.5 R_earth (Super-Earths) and a higher peak at about 2.5 R_earth (Mini-Neptunes).\n",
    "\n",
    "There is a valley (a deficit) of planets between Super-Earths and Mini-Neptunes at about 1.8 R_earth.\n",
    "\n",
    "Further observations reveal that Super-Earths are mostly bare rocks whereas Mini-Neptunes have substantial H/He envelopes"
   ]
  },
  {
   "cell_type": "code",
   "execution_count": 2,
   "id": "45bca635-c86d-4479-a2e6-2461a702defb",
   "metadata": {},
   "outputs": [
    {
     "data": {
      "text/html": [
       "<img src=\"data/fulton_gap.png\"/>"
      ],
      "text/plain": [
       "<IPython.core.display.Image object>"
      ]
     },
     "execution_count": 2,
     "metadata": {},
     "output_type": "execute_result"
    }
   ],
   "source": [
    "Image(url= \"data/fulton_gap.png\")\n",
    "#http://ui.adsabs.harvard.edu/abs/2017AJ....154..109F/abstract"
   ]
  },
  {
   "cell_type": "code",
   "execution_count": 3,
   "id": "7a00d940-49f2-442f-a199-730acbbf76e7",
   "metadata": {},
   "outputs": [
    {
     "data": {
      "text/html": [
       "<img src=\"data/se-mn.jpg\"/>"
      ],
      "text/plain": [
       "<IPython.core.display.Image object>"
      ]
     },
     "execution_count": 3,
     "metadata": {},
     "output_type": "execute_result"
    }
   ],
   "source": [
    "Image(url= \"data/se-mn.jpg\")"
   ]
  },
  {
   "cell_type": "markdown",
   "id": "fdb4bc9e-c316-4142-89a6-eda2f2b88ba9",
   "metadata": {},
   "source": [
    "### Radius Valley vs Orbital Period\n",
    "It was pointed that the radius valley separating the Super-Earths and Mini-Neptunes may have a dependence on orbital periods: atmospheric erosion of H/He envelope likely depends on orbital period.\n",
    "\n",
    "Some suggest that it could be a power law dependence: $R_{\\rm p, valley} \\propto P^\\alpha$"
   ]
  },
  {
   "cell_type": "code",
   "execution_count": 4,
   "id": "e5352e06-4cdc-45ad-bfe1-78e23c084d9e",
   "metadata": {},
   "outputs": [
    {
     "name": "stdout",
     "output_type": "stream",
     "text": [
      "         Planet     Rp  Rp_unc     Period     Ms  Ms_unc_u  Ms_unc_l      Rs  \\\n",
      "0    Kepler-815  4.980   0.600   8.575222  1.690     0.500     0.500  3.8800   \n",
      "1      HAT-P-11  4.887   0.065   4.887802  0.860     0.060     0.060  0.7600   \n",
      "2     K00367.01  4.720   0.150  31.578671  1.110     0.090     0.090  1.0300   \n",
      "3   Kepler-278b  4.590   0.260  30.158569  1.298     0.076     0.076  2.9350   \n",
      "4      Kepler-4  4.220   0.120   3.213671  1.090     0.070     0.070  1.5500   \n",
      "..          ...    ...     ...        ...    ...       ...       ...     ...   \n",
      "93  Kepler-444e  0.533   0.019   7.743501  0.740     0.010     0.010  0.7492   \n",
      "94  Kepler-444d  0.530   0.025   6.189513  0.740     0.010     0.010  0.7492   \n",
      "95  Kepler-444c  0.490   0.024   4.545817  0.740     0.010     0.010  0.7492   \n",
      "96  Kepler-444b  0.381   0.021   3.600125  0.740     0.010     0.010  0.7492   \n",
      "97   Kepler-37b  0.354   0.014  13.368054  0.810     0.010     0.020  0.7725   \n",
      "\n",
      "    Rs_unc_u  Rs_unc_l  SE_MN  \n",
      "0     0.4300    0.4300      1  \n",
      "1     0.0100    0.0100      1  \n",
      "2     0.0300    0.0300      1  \n",
      "3     0.0660    0.0660      1  \n",
      "4     0.0400    0.0400      1  \n",
      "..       ...       ...    ...  \n",
      "93    0.0040    0.0046     -1  \n",
      "94    0.0040    0.0046     -1  \n",
      "95    0.0040    0.0046     -1  \n",
      "96    0.0040    0.0046     -1  \n",
      "97    0.0063    0.0051     -1  \n",
      "\n",
      "[98 rows x 11 columns]\n"
     ]
    },
    {
     "data": {
      "text/plain": [
       "(1, 110)"
      ]
     },
     "execution_count": 4,
     "metadata": {},
     "output_type": "execute_result"
    },
    {
     "data": {
      "image/png": "[encoded data removed]",
      "text/plain": [
       "<Figure size 432x288 with 1 Axes>"
      ]
     },
     "metadata": {},
     "output_type": "display_data"
    }
   ],
   "source": [
    "newdata = pd.read_csv('data/se-mn.csv',header=0)\n",
    "print(newdata)\n",
    "rp=np.array(newdata['Rp'],'d')\n",
    "rp_unc=np.array(newdata['Rp_unc'],'d')\n",
    "per=np.array(newdata['Period'],'d')\n",
    "se_mn=np.array(newdata['SE_MN'],'i')\n",
    "plt.errorbar(per[se_mn==-1],rp[se_mn==-1],yerr=rp_unc[se_mn==-1], color = 'purple', fmt = 'o')\n",
    "plt.errorbar(per[se_mn==1],rp[se_mn==1],yerr=rp_unc[se_mn==1], color = 'red', fmt = 'o')\n",
    "plt.yscale('log')\n",
    "plt.xscale('log')\n",
    "\n",
    "plt.xlabel('Orbital Periods (day)')\n",
    "plt.ylabel('Planet Radius ($R_\\oplus$)')\n",
    "plt.ylim(0.8,6)\n",
    "plt.xlim(1,110)"
   ]
  },
  {
   "cell_type": "markdown",
   "id": "e1246af7-8ac9-44ba-8469-1d905e172c90",
   "metadata": {},
   "source": [
    "### Radius Valley using SVM\n",
    "Let us determine how the Radius Valley depends on the orbital distance using Support Vector Machine"
   ]
  },
  {
   "cell_type": "code",
   "execution_count": 5,
   "id": "66c6dcb6-9881-4f75-93ea-3ca53db9433f",
   "metadata": {},
   "outputs": [
    {
     "data": {
      "text/plain": [
       "SVC(C=10000000000.0, kernel='linear')"
      ]
     },
     "execution_count": 5,
     "metadata": {},
     "output_type": "execute_result"
    }
   ],
   "source": [
    "from sklearn.svm import SVC # \"Support vector classifier\"\n",
    "model = SVC(kernel='linear', C=1E10) #let's use a simple linear boundary\n",
    "\n",
    "\n",
    "X=np.vstack((np.log10(per), np.log10(rp))).T\n",
    "y = se_mn\n",
    "model.fit(X, y)"
   ]
  },
  {
   "cell_type": "code",
   "execution_count": 6,
   "id": "7b24d7f3-da90-413f-aed3-8889c7449c48",
   "metadata": {},
   "outputs": [],
   "source": [
    "def plot_svc_decision_function(model, ax=None, plot_support=True):\n",
    "    \"\"\"Plot the decision function for a 2D SVC\"\"\"\n",
    "    if ax is None:\n",
    "        ax = plt.gca()\n",
    "    xlim = ax.get_xlim()\n",
    "    ylim = ax.get_ylim()\n",
    "    \n",
    "    # create grid to evaluate model\n",
    "    x = np.linspace(xlim[0], xlim[1], 30)\n",
    "    y = np.linspace(ylim[0], ylim[1], 30)\n",
    "    Y, X = np.meshgrid(y, x)\n",
    "    xy = np.vstack([X.ravel(), Y.ravel()]).T\n",
    "    P = model.decision_function(xy).reshape(X.shape)\n",
    "    \n",
    "    # plot decision boundary and margins\n",
    "    ax.contour(X, Y, P, colors='k',\n",
    "               levels=[-1, 0, 1], alpha=0.5,\n",
    "               linestyles=['--', '-', '--'])\n",
    "    \n",
    "    # plot support vectors\n",
    "    if plot_support:\n",
    "        ax.scatter(model.support_vectors_[:, 0],\n",
    "                   model.support_vectors_[:, 1],\n",
    "                   s=300, linewidth=1, facecolors='none');\n",
    "    ax.set_xlim(xlim)\n",
    "    ax.set_ylim(ylim)"
   ]
  },
  {
   "cell_type": "code",
   "execution_count": 7,
   "id": "0d9acbef-a446-4ae4-a19d-e3740b730ce4",
   "metadata": {},
   "outputs": [
    {
     "data": {
      "text/plain": [
       "Text(0, 0.5, 'log ($R_p/R_\\\\oplus$)')"
      ]
     },
     "execution_count": 7,
     "metadata": {},
     "output_type": "execute_result"
    },
    {
     "data": {
      "image/png": "[encoded data removed]",
      "text/plain": [
       "<Figure size 432x288 with 1 Axes>"
      ]
     },
     "metadata": {},
     "output_type": "display_data"
    }
   ],
   "source": [
    "plt.scatter(X[:, 0], X[:, 1], c=y, s=50, cmap='rainbow')\n",
    "plot_svc_decision_function(model)\n",
    "plt.ylim(np.log10(0.8),np.log10(6))\n",
    "plt.xlim(np.log10(1),np.log10(110))\n",
    "\n",
    "plt.xlabel('log (P/day)')\n",
    "plt.ylabel('log ($R_p/R_\\oplus$)')"
   ]
  },
  {
   "cell_type": "markdown",
   "id": "d7f6104e-369a-474b-96b0-93aab7f9fd71",
   "metadata": {},
   "source": [
    "# Exercise 1:\n",
    "### Given that the weight vector w is of the SVM is:\n",
    "\n",
    "print(model.coef_)\n",
    "\n",
    "### how does the radius valley depend on the orbital period i.e. find alpha $R_{\\rm p, valley} \\propto P^\\alpha$? (hint: the weight vector is the normal of the hyperplane separating the categories)"
   ]
  },
  {
   "cell_type": "code",
   "execution_count": null,
   "id": "bbe608b8-1927-43e3-a21e-bcafcdbb926b",
   "metadata": {},
   "outputs": [],
   "source": []
  },
  {
   "cell_type": "markdown",
   "id": "18df8d7a-23f6-46dd-ac30-a3395215807f",
   "metadata": {},
   "source": [
    "# Exercise 2:\n",
    "### Using the bootstrap method and the reported uncertainty on radii of the planets, find the confidence interval of $\\alpha$. \n",
    "\n",
    "### Can you rule out $\\alpha=0$, i.e. no period dependence?\n",
    "\n"
   ]
  },
  {
   "cell_type": "code",
   "execution_count": null,
   "id": "8615122e-05d7-49f7-8b18-17e6e73f94e0",
   "metadata": {},
   "outputs": [],
   "source": []
  },
  {
   "cell_type": "code",
   "execution_count": null,
   "id": "a0c41f30-1d2f-4ba3-9b12-6f5012660bbd",
   "metadata": {},
   "outputs": [],
   "source": []
  },
  {
   "cell_type": "code",
   "execution_count": null,
   "id": "36d59a1e-9767-4370-bb12-c89adcb7b2cf",
   "metadata": {},
   "outputs": [],
   "source": []
  }
 ],
 "metadata": {
  "kernelspec": {
   "display_name": "Python 3 (ipykernel)",
   "language": "python",
   "name": "python3"
  },
  "language_info": {
   "codemirror_mode": {
    "name": "ipython",
    "version": 3
   },
   "file_extension": ".py",
   "mimetype": "text/x-python",
   "name": "python",
   "nbconvert_exporter": "python",
   "pygments_lexer": "ipython3",
   "version": "3.9.7"
  }
 },
 "nbformat": 4,
 "nbformat_minor": 5
}
